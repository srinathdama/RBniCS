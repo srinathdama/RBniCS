{
 "cells": [
  {
   "cell_type": "markdown",
   "metadata": {},
   "source": [
    "## TUTORIAL 02 - Elastic block problem\n",
    "**_Keywords: POD-Galerkin method, vector problem_**\n",
    "\n",
    "### 1. Introduction\n",
    "In this Tutorial we consider a linear elasticity problem in a two-dimensional square domain $\\Omega$.\n",
    "\n",
    "The domain is partioned in nine square subdomains, as in the following figure\n",
    "\n",
    "<img src=\"data/elastic_block.png\" width=\"35%\" />\n",
    "\n",
    "Parameters of this problem include Young moduli of each subdomain, as well as lateral traction on the right side of square. In particular:\n",
    "* the ratio between the Young modulus of the each subdomain $\\Omega_{p+1}$, $p=0,\\dots,7$ and the top-right subdomain $\\Omega_9$ is denoted by $\\mu_p$, being\n",
    "\n",
    "$$\n",
    "\\mu_p \\in \\left[1, 100\\right] \\qquad \\text{for }p=0,\\dots,7.\n",
    "$$\n",
    "\n",
    "* the horizontal tractions on each boundary $\\Gamma_{p-6}$, $p=8,\\dots,10$, being\n",
    "\n",
    "$$\n",
    "\\mu_p \\in \\left[-1,1\\right] \\qquad \\text{for } p=8,\\dots, 10.\n",
    "$$\n",
    "\n",
    "For what concerns the remaining boundaries, the left boundary $\\Gamma_6$ is clamped, while the top and bottom boundaries $\\Gamma_1 \\cup \\Gamma_5$ are traction free.\n",
    "\n",
    "The parameter vector $\\boldsymbol{\\mu}$ is thus given by \n",
    "$$\n",
    "\\boldsymbol{\\mu} = (\\mu_0, \\cdots,\\mu_{10})\n",
    "$$\n",
    "on the parameter domain\n",
    "$$\n",
    "\\mathbb{P}=[1,100]^8\\times[-1,1]^3.\n",
    "$$\n",
    "\n",
    "In order to obtain a faster approximation of the problem we pursue a model reduction by means of a POD-Galerkin reduced order method."
   ]
  },
  {
   "cell_type": "markdown",
   "metadata": {},
   "source": [
    "### 2. Parametrized formulation\n",
    "\n",
    "Let $\\boldsymbol{u}(\\boldsymbol{\\mu})$ be the displacement in the domain $\\Omega$.\n",
    "\n",
    "In each subdomain $\\Omega_{p+1}$, $p=0,\\dots,7$, we assume an isotropic linear elastic material, characterized by the following Lamè constants for plane strain\n",
    "$$\\lambda_1(\\mu_p) = \\frac{\\mu_p \\nu}{(1+\\nu)(1-2\\nu)},$$\n",
    "$$\\lambda_2(\\mu_p) = \\frac{\\mu_p}{2(1+\\nu)},$$\n",
    "for $\\nu=0.30$, with the following Piola-Kirchhoff tensor\n",
    "\n",
    "$$\n",
    "\\boldsymbol{\\pi}(\\boldsymbol{u}; \\mu_p) = \n",
    "\\lambda_1(\\mu_p)\\;\\text{tr}\\left[\\nabla_{S}\\boldsymbol{u}\\right]\\; \\boldsymbol{I} +\n",
    "2\\;\\lambda_2(\\mu_p)\\;\\nabla_{S}\\boldsymbol{u}\n",
    "$$\n",
    "where $\\nabla_{S}$ denotes the symmetric part of the gradient.\n",
    "\n",
    "Similarly, the Piola-Kirchhoff tensor in the top right subdomain $\\Omega_9$ is given by $\\boldsymbol{\\pi}(\\boldsymbol{u}; 1)$.\n",
    "\n",
    "Thus, the Piola-Kirchhoff tensor on the domain $\\Omega$ can be obtained as\n",
    "$$\n",
    "\\boldsymbol{P}(\\boldsymbol{u}; \\boldsymbol{\\mu}) = \n",
    "\\Lambda_1(\\boldsymbol{\\mu})\\;\\text{tr}\\left[\\nabla_{S}\\boldsymbol{u}\\right]\\; \\boldsymbol{I} +\n",
    "2\\;\\Lambda_2(\\boldsymbol{\\mu})\\;\\nabla_{S}\\boldsymbol{u}\n",
    "$$\n",
    "where\n",
    "$$\n",
    "\\Lambda_1(\\boldsymbol{\\mu}) = \\sum_{p=0}^{7} \\lambda_1(\\mu_p) \\mathbb{1}_{\\Omega_{p+1}} + \\lambda_1(1) \\mathbb{1}_{\\Omega_{9}}\n",
    "$$\n",
    "$$\n",
    "\\Lambda_2(\\boldsymbol{\\mu}) = \\sum_{p=0}^{7} \\lambda_2(\\mu_p) \\mathbb{1}_{\\Omega_{p+1}} + \\lambda_2(1) \\mathbb{1}_{\\Omega_{9}}\n",
    "$$\n",
    "\n",
    "The strong formulation of the parametrized problem is given by:\n",
    "<center>for a given parameter $\\boldsymbol{\\mu}\\in\\mathbb{P}$, find $\\boldsymbol{u}(\\boldsymbol{\\mu})$ such that</center>\n",
    "$$\n",
    "\\begin{cases}\n",
    "\t- \\text{div} \\boldsymbol{P}(\\boldsymbol{u}(\\boldsymbol{\\mu}); \\boldsymbol{\\mu})) = 0 & \\text{in } \\Omega,\\\\\n",
    "    \\boldsymbol{P}(\\boldsymbol{u}(\\boldsymbol{\\mu}); \\boldsymbol{\\mu})) \\mathbf{n} = \\mathbf{0} & \\text{on } \\Gamma_{1},\\\\\n",
    "\t\\boldsymbol{P}(\\boldsymbol{u}(\\boldsymbol{\\mu}); \\boldsymbol{\\mu})) \\mathbf{n} = \\mu_p \\mathbf{n} & \\text{on } \\Gamma_{p-6}, p=8,\\dots, 10,\\\\\n",
    "    \\boldsymbol{P}(\\boldsymbol{u}(\\boldsymbol{\\mu}); \\boldsymbol{\\mu})) \\mathbf{n} = \\mathbf{0} & \\text{on } \\Gamma_{5},\\\\\n",
    "\t\\boldsymbol{u}(\\boldsymbol{\\mu}) = \\boldsymbol{0} & \\text{on } \\Gamma_{6},\\\\\n",
    "\\end{cases}\n",
    "$$\n",
    "<br>\n",
    "\n",
    "where $\\mathbf{n}$ denotes the outer normal to the boundary $\\partial\\Omega$.\n",
    "\n",
    "The corresponding weak formulation reads:\n",
    "<center>for a given parameter $\\boldsymbol{\\mu}\\in\\mathbb{P}$, find $u(\\boldsymbol{\\mu})\\in\\mathbb{V}$ such that</center>\n",
    "\n",
    "$$a\\left(u(\\boldsymbol{\\mu}),v;\\boldsymbol{\\mu}\\right)=f(v;\\boldsymbol{\\mu})\\quad \\forall v\\in\\mathbb{V}$$\n",
    "\n",
    "where\n",
    "\n",
    "* the function space $\\mathbb{V}$ is defined as\n",
    "$$\n",
    "\\mathbb{V} = \\{\\boldsymbol{v}\\in H^1(\\Omega; \\mathbb{R}^2) : \\boldsymbol{v}|_{\\Gamma_{6}}=\\boldsymbol{0}\\}\n",
    "$$\n",
    "* the parametrized bilinear form $a(\\cdot, \\cdot; \\boldsymbol{\\mu}): \\mathbb{V} \\times \\mathbb{V} \\to \\mathbb{R}$ is defined by\n",
    "$$a(\\boldsymbol{u}, \\boldsymbol{v}; \\boldsymbol{\\mu})=\\int_{\\Omega}\n",
    "\\left\\{\n",
    "\\Lambda_1(\\boldsymbol{\\mu})\\;\\text{tr}\\left[\\nabla_{S}\\boldsymbol{u}\\right]\\;\\text{tr}\\left[\\nabla_{S}\\boldsymbol{v}\\right] + 2\\;\\Lambda_2(\\boldsymbol{\\mu})\\;\\nabla_{S}\\boldsymbol{u} : \\nabla_{S}\\boldsymbol{v}\n",
    "\\right\\}  d\\boldsymbol{x}\n",
    "$$,\n",
    "* the parametrized linear form $f(\\cdot; \\boldsymbol{\\mu}): \\mathbb{V} \\to \\mathbb{R}$ is defined by\n",
    "$$f(\\boldsymbol{v}; \\boldsymbol{\\mu})= \\sum_{p=8}^{10} \\mu_p \\int_{\\Gamma_{p-6}} \\boldsymbol{v} \\cdot \\mathbf{n} \\ ds$$."
   ]
  },
  {
   "cell_type": "code",
   "execution_count": 1,
   "metadata": {},
   "outputs": [],
   "source": [
    "from dolfin import *\n",
    "from rbnics import *"
   ]
  },
  {
   "cell_type": "markdown",
   "metadata": {},
   "source": [
    "## 3. Affine decomposition\n",
    "\n",
    "For this problem the affine decomposition is straightforward. Indeed, owing to the definitions of $\\Lambda_1(\\boldsymbol{\\mu})$ and $\\Lambda_2(\\boldsymbol{\\mu})$, we have:\n",
    "$$\n",
    "a(\\boldsymbol{u}, \\boldsymbol{v}; \\boldsymbol{\\mu}) = \\sum_{p=0}^7 \\underbrace{\\mu_{\\color{red} p}}_{\\Theta^{a}_{\\color{red} p}(\\boldsymbol{\\mu})} \\underbrace{\\int_{\\Omega_{\\color{red}{p + 1}}}\n",
    "\\left\\{\\lambda_1(1)\\;\\text{tr}\\left[\\nabla_{S}\\boldsymbol{u}\\right]\\;\\text{tr}\\left[\\nabla_{S}\\boldsymbol{v}\\right] + 2\\;\\lambda_2(1)\\;\\nabla_{S}\\boldsymbol{u} : \\nabla_{S}\\boldsymbol{v} \\right\\}  d\\boldsymbol{x}}_{a_{\\color{red} p}(\\boldsymbol{u}, \\boldsymbol{v})} +\\\\\n",
    "\\underbrace{1}_{\\Theta^{a}_{\\color{red} 8}(\\boldsymbol{\\mu})} \\underbrace{\\int_{\\Omega_{\\color{red} 9}}\n",
    "\\left\\{\\lambda_1(1)\\;\\text{tr}\\left[\\nabla_{S}\\boldsymbol{u}\\right]\\;\\text{tr}\\left[\\nabla_{S}\\boldsymbol{v}\\right] + 2\\;\\lambda_2(1)\\;\\nabla_{S}\\boldsymbol{u} : \\nabla_{S}\\boldsymbol{v} \\right\\}  d\\boldsymbol{x}}_{a_{\\color{red} 8}(\\boldsymbol{u}, \\boldsymbol{v})}\\\\\n",
    "$$\n",
    "$$\n",
    "f(\\boldsymbol{v}; \\boldsymbol{\\mu}) = \n",
    "\\sum_{p=8}^{10} \\underbrace{\\mu_{\\color{red} p}}_{\\Theta^{f}_{\\color{red}{p-8}}(\\boldsymbol{\\mu})} \\underbrace{\\int_{\\Gamma_{\\color{red}{p-6}}} \\boldsymbol{v} \\cdot \\mathbf{n}}_{f_{\\color{red}{p-8}}(\\boldsymbol{v})}.\n",
    "$$\n",
    "\n",
    "We will implement the numerical discretization of the problem in the class\n",
    "```\n",
    "class ElasticBlock(EllipticCoerciveProblem):\n",
    "```\n",
    "by specifying the coefficients $\\Theta^{a}_*(\\boldsymbol{\\mu})$ and $\\Theta^{f}_*(\\boldsymbol{\\mu})$ in the method\n",
    "```\n",
    "    def compute_theta(self, term):     \n",
    "```\n",
    "and the bilinear forms $a_*(\\boldsymbol{u}, \\boldsymbol{v})$ and linear forms $f_*(\\boldsymbol{v})$ in\n",
    "```\n",
    "    def assemble_operator(self, term):\n",
    "```"
   ]
  },
  {
   "cell_type": "code",
   "execution_count": 2,
   "metadata": {},
   "outputs": [],
   "source": [
    "class ElasticBlock(EllipticCoerciveProblem):\n",
    "\n",
    "    # Default initialization of members\n",
    "    def __init__(self, V, **kwargs):\n",
    "        # Call the standard initialization\n",
    "        EllipticCoerciveProblem.__init__(self, V, **kwargs)\n",
    "        # ... and also store FEniCS data structures for assembly\n",
    "        assert \"subdomains\" in kwargs\n",
    "        assert \"boundaries\" in kwargs\n",
    "        self.subdomains, self.boundaries = kwargs[\"subdomains\"], kwargs[\"boundaries\"]\n",
    "        self.u = TrialFunction(V)\n",
    "        self.v = TestFunction(V)\n",
    "        self.dx = Measure(\"dx\")(subdomain_data=self.subdomains)\n",
    "        self.ds = Measure(\"ds\")(subdomain_data=self.boundaries)\n",
    "        # ...\n",
    "        self.f = Constant((1.0, 0.0))\n",
    "        self.E = 1.0\n",
    "        self.nu = 0.3\n",
    "        self.lambda_1 = self.E * self.nu / ((1.0 + self.nu) * (1.0 - 2.0 * self.nu))\n",
    "        self.lambda_2 = self.E / (2.0 * (1.0 + self.nu))\n",
    "\n",
    "    # Return custom problem name\n",
    "    def name(self):\n",
    "        return \"ElasticBlock\"\n",
    "\n",
    "    # Return theta multiplicative terms of the affine expansion of the problem.\n",
    "    def compute_theta(self, term):\n",
    "        mu = self.mu\n",
    "        if term == \"a\":\n",
    "            theta_a0 = mu[0]\n",
    "            theta_a1 = mu[1]\n",
    "            theta_a2 = mu[2]\n",
    "            theta_a3 = mu[3]\n",
    "            theta_a4 = mu[4]\n",
    "            theta_a5 = mu[5]\n",
    "            theta_a6 = mu[6]\n",
    "            theta_a7 = mu[7]\n",
    "            theta_a8 = 1.\n",
    "            return (theta_a0, theta_a1, theta_a2, theta_a3, theta_a4, theta_a5, theta_a6, theta_a7, theta_a8)\n",
    "        elif term == \"f\":\n",
    "            theta_f0 = mu[8]\n",
    "            theta_f1 = mu[9]\n",
    "            theta_f2 = mu[10]\n",
    "            return (theta_f0, theta_f1, theta_f2)\n",
    "        else:\n",
    "            raise ValueError(\"Invalid term for compute_theta().\")\n",
    "\n",
    "    # Return forms resulting from the discretization of the affine expansion of the problem operators.\n",
    "    def assemble_operator(self, term):\n",
    "        v = self.v\n",
    "        dx = self.dx\n",
    "        if term == \"a\":\n",
    "            u = self.u\n",
    "            a0 = self.elasticity(u, v) * dx(1)\n",
    "            a1 = self.elasticity(u, v) * dx(2)\n",
    "            a2 = self.elasticity(u, v) * dx(3)\n",
    "            a3 = self.elasticity(u, v) * dx(4)\n",
    "            a4 = self.elasticity(u, v) * dx(5)\n",
    "            a5 = self.elasticity(u, v) * dx(6)\n",
    "            a6 = self.elasticity(u, v) * dx(7)\n",
    "            a7 = self.elasticity(u, v) * dx(8)\n",
    "            a8 = self.elasticity(u, v) * dx(9)\n",
    "            return (a0, a1, a2, a3, a4, a5, a6, a7, a8)\n",
    "        elif term == \"f\":\n",
    "            ds = self.ds\n",
    "            f = self.f\n",
    "            f0 = inner(f, v) * ds(2)\n",
    "            f1 = inner(f, v) * ds(3)\n",
    "            f2 = inner(f, v) * ds(4)\n",
    "            return (f0, f1, f2)\n",
    "        elif term == \"dirichlet_bc\":\n",
    "            bc0 = [DirichletBC(self.V, Constant((0.0, 0.0)), self.boundaries, 6)]\n",
    "            return (bc0,)\n",
    "        elif term == \"inner_product\":\n",
    "            u = self.u\n",
    "            x0 = inner(u, v) * dx + inner(grad(u), grad(v)) * dx\n",
    "            return (x0,)\n",
    "        else:\n",
    "            raise ValueError(\"Invalid term for assemble_operator().\")\n",
    "\n",
    "    # Auxiliary function to compute the elasticity bilinear form\n",
    "    def elasticity(self, u, v):\n",
    "        lambda_1 = self.lambda_1\n",
    "        lambda_2 = self.lambda_2\n",
    "        return 2.0 * lambda_2 * inner(sym(grad(u)), sym(grad(v))) + lambda_1 * tr(sym(grad(u))) * tr(sym(grad(v)))"
   ]
  },
  {
   "cell_type": "markdown",
   "metadata": {},
   "source": [
    "## 4. Main program\n",
    "### 4.1. Read the mesh for this problem\n",
    "The mesh was generated by the [data/generate_mesh.ipynb](data/generate_mesh.ipynb) notebook."
   ]
  },
  {
   "cell_type": "code",
   "execution_count": 3,
   "metadata": {},
   "outputs": [],
   "source": [
    "mesh = Mesh(\"data/elastic_block.xml\")\n",
    "subdomains = MeshFunction(\"size_t\", mesh, \"data/elastic_block_physical_region.xml\")\n",
    "boundaries = MeshFunction(\"size_t\", mesh, \"data/elastic_block_facet_region.xml\")"
   ]
  },
  {
   "cell_type": "markdown",
   "metadata": {},
   "source": [
    "### 4.2. Create Finite Element space (Lagrange P1)"
   ]
  },
  {
   "cell_type": "code",
   "execution_count": 4,
   "metadata": {},
   "outputs": [],
   "source": [
    "V = VectorFunctionSpace(mesh, \"Lagrange\", 1)"
   ]
  },
  {
   "cell_type": "markdown",
   "metadata": {},
   "source": [
    "### 4.3. Allocate an object of the ElasticBlock class"
   ]
  },
  {
   "cell_type": "code",
   "execution_count": 5,
   "metadata": {},
   "outputs": [],
   "source": [
    "problem = ElasticBlock(V, subdomains=subdomains, boundaries=boundaries)\n",
    "mu_range = [\n",
    "    (1.0, 100.0),\n",
    "    (1.0, 100.0),\n",
    "    (1.0, 100.0),\n",
    "    (1.0, 100.0),\n",
    "    (1.0, 100.0),\n",
    "    (1.0, 100.0),\n",
    "    (1.0, 100.0),\n",
    "    (1.0, 100.0),\n",
    "    (-1.0, 1.0),\n",
    "    (-1.0, 1.0),\n",
    "    (-1.0, 1.0)\n",
    "]\n",
    "problem.set_mu_range(mu_range)"
   ]
  },
  {
   "cell_type": "markdown",
   "metadata": {},
   "source": [
    "### 4.4. Prepare reduction with a POD-Galerkin method"
   ]
  },
  {
   "cell_type": "code",
   "execution_count": 6,
   "metadata": {},
   "outputs": [],
   "source": [
    "reduction_method = PODGalerkin(problem)\n",
    "reduction_method.set_Nmax(20)\n",
    "reduction_method.set_tolerance(2e-4)"
   ]
  },
  {
   "cell_type": "markdown",
   "metadata": {},
   "source": [
    "### 4.5. Perform the offline phase"
   ]
  },
  {
   "cell_type": "code",
   "execution_count": 7,
   "metadata": {},
   "outputs": [],
   "source": [
    "reduction_method.initialize_training_set(100)\n",
    "reduced_problem = reduction_method.offline()"
   ]
  },
  {
   "cell_type": "markdown",
   "metadata": {},
   "source": [
    "### 4.6. Perform an online solve"
   ]
  },
  {
   "cell_type": "code",
   "execution_count": 8,
   "metadata": {},
   "outputs": [
    {
     "data": {
      "text/plain": [
       "<matplotlib.quiver.Quiver at 0x7f7cb9d25e10>"
      ]
     },
     "execution_count": 8,
     "metadata": {},
     "output_type": "execute_result"
    },
    {
     "data": {
      "image/png": "[encoded data removed]",
      "text/plain": [
       "<Figure size 432x288 with 1 Axes>"
      ]
     },
     "metadata": {
      "needs_background": "light"
     },
     "output_type": "display_data"
    }
   ],
   "source": [
    "online_mu = (1.0, 1.0, 1.0, 1.0, 1.0, 1.0, 1.0, 1.0, 1.0, -1.0, -1.0)\n",
    "reduced_problem.set_mu(online_mu)\n",
    "reduced_solution = reduced_problem.solve()\n",
    "plot(reduced_solution, reduced_problem=reduced_problem)"
   ]
  },
  {
   "cell_type": "code",
   "execution_count": 9,
   "metadata": {},
   "outputs": [
    {
     "name": "stdout",
     "output_type": "stream",
     "text": [
      "/usr/local/lib/python3.6/dist-packages/RBniCS-0.1.dev1-py3.6.egg/rbnics/backends/dolfin/wrapping/plot.py\n"
     ]
    }
   ],
   "source": [
    "import inspect\n",
    "import os\n",
    "\n",
    "print(os.path.abspath(inspect.getfile(plot)))"
   ]
  },
  {
   "cell_type": "markdown",
   "metadata": {},
   "source": [
    "### 4.7. Perform an error analysis"
   ]
  },
  {
   "cell_type": "code",
   "execution_count": 10,
   "metadata": {
    "scrolled": true
   },
   "outputs": [
    {
     "name": "stdout",
     "output_type": "stream",
     "text": [
      "================================================================================\n",
      "=               ElasticBlock POD-Galerkin error analysis begins                =\n",
      "================================================================================\n",
      "\n",
      "###################################### 0 #######################################\n",
      "###################################### 1 #######################################\n",
      "###################################### 2 #######################################\n",
      "###################################### 3 #######################################\n",
      "###################################### 4 #######################################\n",
      "###################################### 5 #######################################\n",
      "###################################### 6 #######################################\n",
      "###################################### 7 #######################################\n",
      "###################################### 8 #######################################\n",
      "###################################### 9 #######################################\n",
      "###################################### 10 ######################################\n",
      "###################################### 11 ######################################\n",
      "###################################### 12 ######################################\n",
      "###################################### 13 ######################################\n",
      "###################################### 14 ######################################\n",
      "###################################### 15 ######################################\n",
      "###################################### 16 ######################################\n",
      "###################################### 17 ######################################\n",
      "###################################### 18 ######################################\n",
      "###################################### 19 ######################################\n",
      "###################################### 20 ######################################\n",
      "###################################### 21 ######################################\n",
      "###################################### 22 ######################################\n",
      "###################################### 23 ######################################\n",
      "###################################### 24 ######################################\n",
      "###################################### 25 ######################################\n",
      "###################################### 26 ######################################\n",
      "###################################### 27 ######################################\n",
      "###################################### 28 ######################################\n",
      "###################################### 29 ######################################\n",
      "###################################### 30 ######################################\n",
      "###################################### 31 ######################################\n",
      "###################################### 32 ######################################\n",
      "###################################### 33 ######################################\n",
      "###################################### 34 ######################################\n",
      "###################################### 35 ######################################\n",
      "###################################### 36 ######################################\n",
      "###################################### 37 ######################################\n",
      "###################################### 38 ######################################\n",
      "###################################### 39 ######################################\n",
      "###################################### 40 ######################################\n",
      "###################################### 41 ######################################\n",
      "###################################### 42 ######################################\n",
      "###################################### 43 ######################################\n",
      "###################################### 44 ######################################\n",
      "###################################### 45 ######################################\n",
      "###################################### 46 ######################################\n",
      "###################################### 47 ######################################\n",
      "###################################### 48 ######################################\n",
      "###################################### 49 ######################################\n",
      "###################################### 50 ######################################\n",
      "###################################### 51 ######################################\n",
      "###################################### 52 ######################################\n",
      "###################################### 53 ######################################\n",
      "###################################### 54 ######################################\n",
      "###################################### 55 ######################################\n",
      "###################################### 56 ######################################\n",
      "###################################### 57 ######################################\n",
      "###################################### 58 ######################################\n",
      "###################################### 59 ######################################\n",
      "###################################### 60 ######################################\n",
      "###################################### 61 ######################################\n",
      "###################################### 62 ######################################\n",
      "###################################### 63 ######################################\n",
      "###################################### 64 ######################################\n",
      "###################################### 65 ######################################\n",
      "###################################### 66 ######################################\n",
      "###################################### 67 ######################################\n",
      "###################################### 68 ######################################\n",
      "###################################### 69 ######################################\n",
      "###################################### 70 ######################################\n",
      "###################################### 71 ######################################\n",
      "###################################### 72 ######################################\n",
      "###################################### 73 ######################################\n",
      "###################################### 74 ######################################\n",
      "###################################### 75 ######################################\n",
      "###################################### 76 ######################################\n",
      "###################################### 77 ######################################\n",
      "###################################### 78 ######################################\n",
      "###################################### 79 ######################################\n",
      "###################################### 80 ######################################\n",
      "###################################### 81 ######################################\n",
      "###################################### 82 ######################################\n",
      "###################################### 83 ######################################\n",
      "###################################### 84 ######################################\n",
      "###################################### 85 ######################################\n",
      "###################################### 86 ######################################\n",
      "###################################### 87 ######################################\n",
      "###################################### 88 ######################################\n",
      "###################################### 89 ######################################\n",
      "###################################### 90 ######################################\n",
      "###################################### 91 ######################################\n",
      "###################################### 92 ######################################\n",
      "###################################### 93 ######################################\n",
      "###################################### 94 ######################################\n",
      "###################################### 95 ######################################\n",
      "###################################### 96 ######################################\n",
      "###################################### 97 ######################################\n",
      "###################################### 98 ######################################\n"
     ]
    },
    {
     "name": "stdout",
     "output_type": "stream",
     "text": [
      "###################################### 99 ######################################\n",
      "\n",
      "N \tgmean(error_u)  \tmax(error_u)   \tgmean(relative_error_u)\tmax(relative_error_u)\n",
      "1 \t0.03536415989153688\t0.20325480655244932\t0.22566327112364631    \t1.1478526920607148   \n",
      "2 \t0.03142580729209177\t0.1417234602318817\t0.2005321345957348     \t0.9756653342447398   \n",
      "3 \t0.02522604863665798\t0.12199653320706684\t0.16097067399117684    \t0.8621155123563775   \n",
      "4 \t0.021724597801859476\t0.08759817905436622\t0.1386274640440817     \t0.6057620814990073   \n",
      "5 \t0.0162321177720472\t0.09052194074054874\t0.10357923968613901    \t0.6007359193776054   \n",
      "6 \t0.013876534273903158\t0.09202220554846088\t0.08854795718921543    \t0.6061948965182954   \n",
      "7 \t0.010838434978064778\t0.08396862439681203\t0.06916145324850104    \t0.4234030247658649   \n",
      "8 \t0.008811174231444103\t0.05229865779547652\t0.05622524062798097    \t0.3795425175378835   \n",
      "9 \t0.00631101610779791\t0.032570269995800184\t0.04027140877565483    \t0.2859627536488944   \n",
      "10\t0.005912898955509312\t0.032473164128637225\t0.0377309718148612     \t0.262299949915851    \n",
      "11\t0.005365158766449588\t0.031496126906914994\t0.03423577093441607    \t0.25330924465102433  \n",
      "12\t0.004830236405774424\t0.03173156243851722\t0.030822362272161147   \t0.1890461072903771   \n",
      "13\t0.0041382592324224554\t0.031384995622111576\t0.02640676656847612    \t0.18314557852969396  \n",
      "14\t0.003891334095973568\t0.02874575098160419\t0.024831105385385393   \t0.18283990672288813  \n",
      "15\t0.0035697891185756613\t0.029614960338217537\t0.02277928536094434    \t0.18111636900056932  \n",
      "16\t0.003374356896798607\t0.02794199828447366\t0.02153220711606494    \t0.18055252438889852  \n",
      "\n",
      "================================================================================\n",
      "=                ElasticBlock POD-Galerkin error analysis ends                 =\n",
      "================================================================================\n",
      "\n"
     ]
    }
   ],
   "source": [
    "reduction_method.initialize_testing_set(100)\n",
    "reduction_method.error_analysis()"
   ]
  },
  {
   "cell_type": "code",
   "execution_count": 11,
   "metadata": {},
   "outputs": [
    {
     "ename": "AttributeError",
     "evalue": "'EllipticPODGalerkinReduction' object has no attribute 'save_data'",
     "output_type": "error",
     "traceback": [
      "\u001b[0;31m---------------------------------------------------------------------------\u001b[0m",
      "\u001b[0;31mAttributeError\u001b[0m                            Traceback (most recent call last)",
      "\u001b[0;32m<ipython-input-11-bdce40ba0089>\u001b[0m in \u001b[0;36m<module>\u001b[0;34m\u001b[0m\n\u001b[0;32m----> 1\u001b[0;31m \u001b[0;34m[\u001b[0m\u001b[0mreduced_solution_temp\u001b[0m\u001b[0;34m,\u001b[0m \u001b[0mtruth_solution_temp\u001b[0m\u001b[0;34m]\u001b[0m \u001b[0;34m=\u001b[0m \u001b[0mreduction_method\u001b[0m\u001b[0;34m.\u001b[0m\u001b[0msave_data\u001b[0m\u001b[0;34m(\u001b[0m\u001b[0;34m)\u001b[0m\u001b[0;34m\u001b[0m\u001b[0;34m\u001b[0m\u001b[0m\n\u001b[0m\u001b[1;32m      2\u001b[0m \u001b[0;34m\u001b[0m\u001b[0m\n\u001b[1;32m      3\u001b[0m \u001b[0mplot\u001b[0m\u001b[0;34m(\u001b[0m\u001b[0mreduced_solution_temp\u001b[0m\u001b[0;34m,\u001b[0m \u001b[0mreduced_problem\u001b[0m\u001b[0;34m=\u001b[0m\u001b[0mreduced_problem\u001b[0m\u001b[0;34m)\u001b[0m\u001b[0;34m\u001b[0m\u001b[0;34m\u001b[0m\u001b[0m\n",
      "\u001b[0;31mAttributeError\u001b[0m: 'EllipticPODGalerkinReduction' object has no attribute 'save_data'"
     ]
    }
   ],
   "source": [
    "[reduced_solution_temp, truth_solution_temp] = reduction_method.save_data()\n",
    "\n",
    "plot(reduced_solution_temp, reduced_problem=reduced_problem)"
   ]
  },
  {
   "cell_type": "code",
   "execution_count": 12,
   "metadata": {},
   "outputs": [
    {
     "data": {
      "text/plain": [
       "<rbnics.reduction_methods.elliptic.elliptic_pod_galerkin_reduction.EllipticPODGalerkinReduction at 0x7f7cba217a58>"
      ]
     },
     "execution_count": 12,
     "metadata": {},
     "output_type": "execute_result"
    }
   ],
   "source": [
    "reduction_method"
   ]
  },
  {
   "cell_type": "markdown",
   "metadata": {},
   "source": [
    "### 4.8. Perform a speedup analysis"
   ]
  },
  {
   "cell_type": "code",
   "execution_count": null,
   "metadata": {},
   "outputs": [],
   "source": [
    "reduction_method.initialize_testing_set(100)\n",
    "reduction_method.speedup_analysis()"
   ]
  },
  {
   "cell_type": "markdown",
   "metadata": {},
   "source": [
    "## 5. Assignments\n",
    "1. Consider now the simplified problem in which \n",
    "$$\n",
    "\\mu_0 \\equiv \\mu_1 \\equiv \\mu_2 \\quad \\text{and} \\quad \\mu_3 \\equiv \\mu_4 \\equiv \\mu_5 \\quad \\text{and} \\quad\n",
    "\\mu_6 \\equiv \\mu_7 = 1 \\quad \\text{and} \\quad \\mu_8 \\equiv \\mu_9 \\equiv \\mu_{10}\n",
    "$$\n",
    "Denote by $\\boldsymbol{\\eta} = (\\mu_0, \\mu_3, \\mu_8)$ the parameter vector of the simplified problem, defined on the parameter domain $\\mathbb{Q}=[1,100]^2\\times[-1,1]$.\n",
    "Implement the simplified problem in a copy of this notebook. What do you observe for what concerns the POD eigenvalue, error analysis, speedup analysis? _Suggestion: for every new notebook copy change the value returned by the name() method of the ElasticBlock class to avoid conflicts between this notebook and your copy_.\n",
    "\n",
    "2. Create another copy of this notebook, and change the model reduction technique from POD-Galerkin to certified reduced basis. You may need to add a new method in the ElasticBlock class which is currently missing. Compare the results of the error analysis and speedup analysis for the two reduction techniques.\n"
   ]
  }
 ],
 "metadata": {
  "kernelspec": {
   "display_name": "Python 3",
   "language": "python",
   "name": "python3"
  },
  "language_info": {
   "codemirror_mode": {
    "name": "ipython",
    "version": 3
   },
   "file_extension": ".py",
   "mimetype": "text/x-python",
   "name": "python",
   "nbconvert_exporter": "python",
   "pygments_lexer": "ipython3",
   "version": "3.6.9"
  }
 },
 "nbformat": 4,
 "nbformat_minor": 2
}
